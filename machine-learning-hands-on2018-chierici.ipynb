{
 "cells": [
  {
   "cell_type": "markdown",
   "metadata": {},
   "source": [
    "# <center>Machine learning for the working (biomedical) researcher</center>\n",
    "## <center>WebValley 2018 @ Casez (TN)</center>\n",
    "### <center>Marco Chierici</center>\n",
    "#### <center>_Data scientist, FBK/MPBA_</center>\n"
   ]
  },
  {
   "cell_type": "markdown",
   "metadata": {},
   "source": [
    "In this handout we will go through basic concepts of machine learning using Scikit-learn and the SEQC neuroblastoma data set [Zhang et al, _Genome Biology_, 2015]."
   ]
  },
  {
   "cell_type": "markdown",
   "metadata": {},
   "source": [
    "<img src=\"img/zhang.png\" width=\"65%\" />"
   ]
  },
  {
   "cell_type": "markdown",
   "metadata": {},
   "source": [
    "In particular, we will focus on **a subset of 272 samples (136 training, 136 test)**, aiming at predicting an **extreme disease outcome** (favorable vs unfavorable samples: see main paper)."
   ]
  },
  {
   "cell_type": "markdown",
   "metadata": {},
   "source": [
    "<img src=\"img/zhang_tab2.png\" width=\"95%\" />"
   ]
  },
  {
   "cell_type": "code",
   "execution_count": 1,
   "metadata": {},
   "outputs": [],
   "source": [
    "# Import required packages\n",
    "import numpy as np\n",
    "import pandas as pd\n",
    "import matplotlib.pyplot as plt"
   ]
  },
  {
   "cell_type": "code",
   "execution_count": 2,
   "metadata": {},
   "outputs": [],
   "source": [
    "# Display plots within the notebook\n",
    "%matplotlib inline"
   ]
  },
  {
   "cell_type": "markdown",
   "metadata": {},
   "source": [
    "Load the training set data:"
   ]
  },
  {
   "cell_type": "code",
   "execution_count": 3,
   "metadata": {},
   "outputs": [],
   "source": [
    "data_tr = pd.read_csv(\"data/nb_train.txt.gz\", dtype=str, sep='\\t', index_col=0)"
   ]
  },
  {
   "cell_type": "markdown",
   "metadata": {},
   "source": [
    "Now let's have a look at the data. First, the dimensions:"
   ]
  },
  {
   "cell_type": "code",
   "execution_count": 4,
   "metadata": {},
   "outputs": [
    {
     "data": {
      "text/plain": [
       "(136, 12305)"
      ]
     },
     "execution_count": 4,
     "metadata": {},
     "output_type": "execute_result"
    }
   ],
   "source": [
    "data_tr.shape"
   ]
  },
  {
   "cell_type": "markdown",
   "metadata": {},
   "source": [
    "What's inside?\n",
    "\n",
    "A peek at the first rows reveals that the first column (the dataframe **index**) contains the sample IDs, the second column is the class (or target), and the remaining columns are genes:"
   ]
  },
  {
   "cell_type": "code",
   "execution_count": 5,
   "metadata": {
    "scrolled": true
   },
   "outputs": [
    {
     "data": {
      "text/html": [
       "<div>\n",
       "<style scoped>\n",
       "    .dataframe tbody tr th:only-of-type {\n",
       "        vertical-align: middle;\n",
       "    }\n",
       "\n",
       "    .dataframe tbody tr th {\n",
       "        vertical-align: top;\n",
       "    }\n",
       "\n",
       "    .dataframe thead th {\n",
       "        text-align: right;\n",
       "    }\n",
       "</style>\n",
       "<table border=\"1\" class=\"dataframe\">\n",
       "  <thead>\n",
       "    <tr style=\"text-align: right;\">\n",
       "      <th></th>\n",
       "      <th>class</th>\n",
       "      <th>NAT2</th>\n",
       "      <th>ADA</th>\n",
       "      <th>POU5F1P6</th>\n",
       "      <th>NR2E3</th>\n",
       "      <th>NAALAD2</th>\n",
       "      <th>VN2R10P</th>\n",
       "      <th>SNORD116-1</th>\n",
       "      <th>SNORD116-13</th>\n",
       "      <th>SNORD116-14</th>\n",
       "      <th>...</th>\n",
       "      <th>HS3ST2</th>\n",
       "      <th>HS3ST1</th>\n",
       "      <th>MVP</th>\n",
       "      <th>FGF19</th>\n",
       "      <th>TNFSF15</th>\n",
       "      <th>NR1H4</th>\n",
       "      <th>CLEC2B</th>\n",
       "      <th>CDC42</th>\n",
       "      <th>CDH1</th>\n",
       "      <th>KCNE2</th>\n",
       "    </tr>\n",
       "    <tr>\n",
       "      <th>sampleID</th>\n",
       "      <th></th>\n",
       "      <th></th>\n",
       "      <th></th>\n",
       "      <th></th>\n",
       "      <th></th>\n",
       "      <th></th>\n",
       "      <th></th>\n",
       "      <th></th>\n",
       "      <th></th>\n",
       "      <th></th>\n",
       "      <th></th>\n",
       "      <th></th>\n",
       "      <th></th>\n",
       "      <th></th>\n",
       "      <th></th>\n",
       "      <th></th>\n",
       "      <th></th>\n",
       "      <th></th>\n",
       "      <th></th>\n",
       "      <th></th>\n",
       "      <th></th>\n",
       "    </tr>\n",
       "  </thead>\n",
       "  <tbody>\n",
       "    <tr>\n",
       "      <th>NB001</th>\n",
       "      <td>1</td>\n",
       "      <td>0.0</td>\n",
       "      <td>13.01</td>\n",
       "      <td>3.61</td>\n",
       "      <td>4.48</td>\n",
       "      <td>12.56</td>\n",
       "      <td>8.23</td>\n",
       "      <td>9.49</td>\n",
       "      <td>2.97</td>\n",
       "      <td>0.0</td>\n",
       "      <td>...</td>\n",
       "      <td>9.81</td>\n",
       "      <td>10.55</td>\n",
       "      <td>14.67</td>\n",
       "      <td>11.26</td>\n",
       "      <td>9.2</td>\n",
       "      <td>5.48</td>\n",
       "      <td>12.2</td>\n",
       "      <td>8.6</td>\n",
       "      <td>11.54</td>\n",
       "      <td>0.0</td>\n",
       "    </tr>\n",
       "    <tr>\n",
       "      <th>NB003</th>\n",
       "      <td>1</td>\n",
       "      <td>0.0</td>\n",
       "      <td>11.22</td>\n",
       "      <td>0.0</td>\n",
       "      <td>7.35</td>\n",
       "      <td>13.43</td>\n",
       "      <td>4.11</td>\n",
       "      <td>10.63</td>\n",
       "      <td>7.09</td>\n",
       "      <td>5.94</td>\n",
       "      <td>...</td>\n",
       "      <td>8.89</td>\n",
       "      <td>11.04</td>\n",
       "      <td>12.91</td>\n",
       "      <td>0.0</td>\n",
       "      <td>4.77</td>\n",
       "      <td>0.0</td>\n",
       "      <td>9.68</td>\n",
       "      <td>8.9</td>\n",
       "      <td>7.22</td>\n",
       "      <td>3.95</td>\n",
       "    </tr>\n",
       "    <tr>\n",
       "      <th>NB005</th>\n",
       "      <td>1</td>\n",
       "      <td>7.71</td>\n",
       "      <td>12.24</td>\n",
       "      <td>6.18</td>\n",
       "      <td>7.17</td>\n",
       "      <td>13.43</td>\n",
       "      <td>0.0</td>\n",
       "      <td>11.6</td>\n",
       "      <td>9.15</td>\n",
       "      <td>4.11</td>\n",
       "      <td>...</td>\n",
       "      <td>9.29</td>\n",
       "      <td>10.24</td>\n",
       "      <td>14.58</td>\n",
       "      <td>0.0</td>\n",
       "      <td>9.8</td>\n",
       "      <td>0.0</td>\n",
       "      <td>9.77</td>\n",
       "      <td>9.09</td>\n",
       "      <td>6.81</td>\n",
       "      <td>0.0</td>\n",
       "    </tr>\n",
       "    <tr>\n",
       "      <th>NB011</th>\n",
       "      <td>-1</td>\n",
       "      <td>0.0</td>\n",
       "      <td>13.26</td>\n",
       "      <td>4.03</td>\n",
       "      <td>6.21</td>\n",
       "      <td>13.91</td>\n",
       "      <td>4.64</td>\n",
       "      <td>11.71</td>\n",
       "      <td>8.59</td>\n",
       "      <td>8.71</td>\n",
       "      <td>...</td>\n",
       "      <td>8.44</td>\n",
       "      <td>10.91</td>\n",
       "      <td>14.58</td>\n",
       "      <td>5.91</td>\n",
       "      <td>11.22</td>\n",
       "      <td>0.0</td>\n",
       "      <td>12.25</td>\n",
       "      <td>9.41</td>\n",
       "      <td>9.68</td>\n",
       "      <td>6.23</td>\n",
       "    </tr>\n",
       "    <tr>\n",
       "      <th>NB013</th>\n",
       "      <td>1</td>\n",
       "      <td>0.0</td>\n",
       "      <td>12.01</td>\n",
       "      <td>7.29</td>\n",
       "      <td>7.66</td>\n",
       "      <td>14.92</td>\n",
       "      <td>3.48</td>\n",
       "      <td>7.37</td>\n",
       "      <td>7.78</td>\n",
       "      <td>0.0</td>\n",
       "      <td>...</td>\n",
       "      <td>12.63</td>\n",
       "      <td>10.13</td>\n",
       "      <td>14.82</td>\n",
       "      <td>5.44</td>\n",
       "      <td>8.52</td>\n",
       "      <td>0.0</td>\n",
       "      <td>10.76</td>\n",
       "      <td>10.0</td>\n",
       "      <td>8.54</td>\n",
       "      <td>0.0</td>\n",
       "    </tr>\n",
       "  </tbody>\n",
       "</table>\n",
       "<p>5 rows × 12305 columns</p>\n",
       "</div>"
      ],
      "text/plain": [
       "         class  NAT2    ADA POU5F1P6 NR2E3 NAALAD2 VN2R10P SNORD116-1  \\\n",
       "sampleID                                                                \n",
       "NB001        1   0.0  13.01     3.61  4.48   12.56    8.23       9.49   \n",
       "NB003        1   0.0  11.22      0.0  7.35   13.43    4.11      10.63   \n",
       "NB005        1  7.71  12.24     6.18  7.17   13.43     0.0       11.6   \n",
       "NB011       -1   0.0  13.26     4.03  6.21   13.91    4.64      11.71   \n",
       "NB013        1   0.0  12.01     7.29  7.66   14.92    3.48       7.37   \n",
       "\n",
       "         SNORD116-13 SNORD116-14  ...  HS3ST2 HS3ST1    MVP  FGF19 TNFSF15  \\\n",
       "sampleID                          ...                                        \n",
       "NB001           2.97         0.0  ...    9.81  10.55  14.67  11.26     9.2   \n",
       "NB003           7.09        5.94  ...    8.89  11.04  12.91    0.0    4.77   \n",
       "NB005           9.15        4.11  ...    9.29  10.24  14.58    0.0     9.8   \n",
       "NB011           8.59        8.71  ...    8.44  10.91  14.58   5.91   11.22   \n",
       "NB013           7.78         0.0  ...   12.63  10.13  14.82   5.44    8.52   \n",
       "\n",
       "         NR1H4 CLEC2B CDC42   CDH1 KCNE2  \n",
       "sampleID                                  \n",
       "NB001     5.48   12.2   8.6  11.54   0.0  \n",
       "NB003      0.0   9.68   8.9   7.22  3.95  \n",
       "NB005      0.0   9.77  9.09   6.81   0.0  \n",
       "NB011      0.0  12.25  9.41   9.68  6.23  \n",
       "NB013      0.0  10.76  10.0   8.54   0.0  \n",
       "\n",
       "[5 rows x 12305 columns]"
      ]
     },
     "execution_count": 5,
     "metadata": {},
     "output_type": "execute_result"
    }
   ],
   "source": [
    "data_tr.head()"
   ]
  },
  {
   "cell_type": "markdown",
   "metadata": {},
   "source": [
    "We can access the sample IDs..."
   ]
  },
  {
   "cell_type": "code",
   "execution_count": 6,
   "metadata": {},
   "outputs": [
    {
     "data": {
      "text/plain": [
       "Index(['NB001', 'NB003', 'NB005', 'NB011', 'NB013', 'NB017', 'NB019', 'NB021',\n",
       "       'NB023', 'NB025',\n",
       "       ...\n",
       "       'NB407', 'NB417', 'NB421', 'NB471', 'NB473', 'NB475', 'NB479', 'NB493',\n",
       "       'NB495', 'NB497'],\n",
       "      dtype='object', name='sampleID', length=136)"
      ]
     },
     "execution_count": 6,
     "metadata": {},
     "output_type": "execute_result"
    }
   ],
   "source": [
    "data_tr.index"
   ]
  },
  {
   "cell_type": "markdown",
   "metadata": {},
   "source": [
    "... and the column names:"
   ]
  },
  {
   "cell_type": "code",
   "execution_count": 7,
   "metadata": {},
   "outputs": [
    {
     "data": {
      "text/plain": [
       "Index(['class', 'NAT2', 'ADA', 'POU5F1P6', 'NR2E3', 'NAALAD2', 'VN2R10P',\n",
       "       'SNORD116-1', 'SNORD116-13', 'SNORD116-14',\n",
       "       ...\n",
       "       'HS3ST2', 'HS3ST1', 'MVP', 'FGF19', 'TNFSF15', 'NR1H4', 'CLEC2B',\n",
       "       'CDC42', 'CDH1', 'KCNE2'],\n",
       "      dtype='object', length=12305)"
      ]
     },
     "execution_count": 7,
     "metadata": {},
     "output_type": "execute_result"
    }
   ],
   "source": [
    "data_tr.columns"
   ]
  },
  {
   "cell_type": "markdown",
   "metadata": {},
   "source": [
    "For the remaining part of this hands-on, we need the data to be stored in a Numpy array:"
   ]
  },
  {
   "cell_type": "code",
   "execution_count": 8,
   "metadata": {},
   "outputs": [
    {
     "data": {
      "text/plain": [
       "array([['1', '0.0', '13.01', ..., '8.6', '11.54', '0.0'],\n",
       "       ['1', '0.0', '11.22', ..., '8.9', '7.22', '3.95'],\n",
       "       ['1', '7.71', '12.24', ..., '9.09', '6.81', '0.0'],\n",
       "       ...,\n",
       "       ['-1', '1.65', '11.65', ..., '9.49', '7.82', '5.08'],\n",
       "       ['-1', '5.67', '12.73', ..., '9.5', '9.62', '1.31'],\n",
       "       ['-1', '3.62', '12.51', ..., '9.48', '8.88', '5.89']], dtype=object)"
      ]
     },
     "execution_count": 8,
     "metadata": {},
     "output_type": "execute_result"
    }
   ],
   "source": [
    "data_tr.values"
   ]
  },
  {
   "cell_type": "markdown",
   "metadata": {},
   "source": [
    "This keeps the class column as well.\n",
    "\n",
    "But...\n",
    "\n",
    "We need to separate the class from the data, so let's recreate our array by dropping the class column from the original dataframe:"
   ]
  },
  {
   "cell_type": "code",
   "execution_count": 9,
   "metadata": {},
   "outputs": [
    {
     "data": {
      "text/plain": [
       "array([['0.0', '13.01', '3.61', ..., '8.6', '11.54', '0.0'],\n",
       "       ['0.0', '11.22', '0.0', ..., '8.9', '7.22', '3.95'],\n",
       "       ['7.71', '12.24', '6.18', ..., '9.09', '6.81', '0.0'],\n",
       "       ...,\n",
       "       ['1.65', '11.65', '6.95', ..., '9.49', '7.82', '5.08'],\n",
       "       ['5.67', '12.73', '3.24', ..., '9.5', '9.62', '1.31'],\n",
       "       ['3.62', '12.51', '3.33', ..., '9.48', '8.88', '5.89']],\n",
       "      dtype=object)"
      ]
     },
     "execution_count": 9,
     "metadata": {},
     "output_type": "execute_result"
    }
   ],
   "source": [
    "data_tr.values[:, 1:]"
   ]
  },
  {
   "cell_type": "markdown",
   "metadata": {},
   "source": [
    "Let's set the dtype to float and save the array to x_tr:"
   ]
  },
  {
   "cell_type": "code",
   "execution_count": 10,
   "metadata": {},
   "outputs": [],
   "source": [
    "x_tr = data_tr.values[:, 1:].astype(float)"
   ]
  },
  {
   "cell_type": "markdown",
   "metadata": {},
   "source": [
    "When coding, it is a good practice to have a peek at the resulting variables, to be sure everything is OK: i.e., is that variable like it is supposed to be? Did I accidentally throw away a feature column?\n",
    "\n",
    "This can avoid lots of problems later on!"
   ]
  },
  {
   "cell_type": "code",
   "execution_count": 11,
   "metadata": {},
   "outputs": [
    {
     "data": {
      "text/plain": [
       "array([[ 0.  , 13.01,  3.61, ...,  8.6 , 11.54,  0.  ],\n",
       "       [ 0.  , 11.22,  0.  , ...,  8.9 ,  7.22,  3.95],\n",
       "       [ 7.71, 12.24,  6.18, ...,  9.09,  6.81,  0.  ],\n",
       "       ...,\n",
       "       [ 1.65, 11.65,  6.95, ...,  9.49,  7.82,  5.08],\n",
       "       [ 5.67, 12.73,  3.24, ...,  9.5 ,  9.62,  1.31],\n",
       "       [ 3.62, 12.51,  3.33, ...,  9.48,  8.88,  5.89]])"
      ]
     },
     "execution_count": 11,
     "metadata": {},
     "output_type": "execute_result"
    }
   ],
   "source": [
    "x_tr"
   ]
  },
  {
   "cell_type": "markdown",
   "metadata": {},
   "source": [
    "Save the class column in another Numpy integer array:"
   ]
  },
  {
   "cell_type": "code",
   "execution_count": 12,
   "metadata": {},
   "outputs": [],
   "source": [
    "y_tr = data_tr[\"class\"].values.astype(int)"
   ]
  },
  {
   "cell_type": "code",
   "execution_count": 13,
   "metadata": {},
   "outputs": [
    {
     "data": {
      "text/plain": [
       "array([ 1,  1,  1, -1,  1, -1, -1, -1, -1, -1, -1, -1, -1, -1, -1, -1, -1,\n",
       "       -1, -1, -1, -1, -1, -1, -1, -1, -1,  1, -1, -1, -1, -1, -1, -1, -1,\n",
       "       -1,  1, -1, -1, -1, -1,  1, -1, -1, -1, -1,  1, -1, -1, -1, -1, -1,\n",
       "       -1, -1, -1,  1, -1, -1, -1,  1,  1, -1, -1, -1, -1, -1, -1, -1, -1,\n",
       "       -1, -1, -1, -1, -1,  1,  1,  1,  1,  1,  1,  1,  1, -1, -1, -1, -1,\n",
       "       -1,  1,  1, -1, -1, -1, -1,  1, -1, -1, -1,  1,  1,  1, -1,  1,  1,\n",
       "        1,  1,  1,  1, -1, -1,  1, -1,  1, -1, -1, -1,  1,  1,  1,  1,  1,\n",
       "        1,  1,  1,  1, -1, -1,  1,  1, -1, -1, -1, -1,  1, -1, -1, -1, -1])"
      ]
     },
     "execution_count": 13,
     "metadata": {},
     "output_type": "execute_result"
    }
   ],
   "source": [
    "y_tr"
   ]
  },
  {
   "cell_type": "markdown",
   "metadata": {},
   "source": [
    "---\n",
    "\n",
    "### Quick recap\n",
    "\n",
    "- y_tr = 1 indicates **unfavorable** neuroblastoma samples (**bad** outcome)\n",
    "- y_tr = -1 indicates **favorable** neuroblastoma samples (**good** outcome)\n",
    "\n",
    "---"
   ]
  },
  {
   "cell_type": "markdown",
   "metadata": {},
   "source": [
    "Extract feature and sample names:"
   ]
  },
  {
   "cell_type": "code",
   "execution_count": 14,
   "metadata": {},
   "outputs": [],
   "source": [
    "feat_tr = data_tr.columns[1:].values.astype(str)\n",
    "samp_tr = data_tr.index.values.astype(str)"
   ]
  },
  {
   "cell_type": "code",
   "execution_count": 15,
   "metadata": {},
   "outputs": [
    {
     "data": {
      "text/plain": [
       "array(['NB001', 'NB003', 'NB005', 'NB011', 'NB013', 'NB017', 'NB019',\n",
       "       'NB021', 'NB023', 'NB025', 'NB027', 'NB029', 'NB031', 'NB033',\n",
       "       'NB035', 'NB037', 'NB039', 'NB043', 'NB045', 'NB047', 'NB049',\n",
       "       'NB051', 'NB053', 'NB055', 'NB057', 'NB059', 'NB069', 'NB071',\n",
       "       'NB095', 'NB097', 'NB099', 'NB101', 'NB105', 'NB111', 'NB115',\n",
       "       'NB119', 'NB121', 'NB123', 'NB125', 'NB131', 'NB137', 'NB139',\n",
       "       'NB141', 'NB145', 'NB147', 'NB149', 'NB151', 'NB153', 'NB155',\n",
       "       'NB157', 'NB159', 'NB161', 'NB165', 'NB167', 'NB169', 'NB171',\n",
       "       'NB183', 'NB185', 'NB195', 'NB197', 'NB199', 'NB203', 'NB205',\n",
       "       'NB207', 'NB209', 'NB211', 'NB213', 'NB215', 'NB217', 'NB219',\n",
       "       'NB225', 'NB229', 'NB237', 'NB245', 'NB255', 'NB257', 'NB259',\n",
       "       'NB263', 'NB267', 'NB269', 'NB271', 'NB275', 'NB277', 'NB279',\n",
       "       'NB281', 'NB283', 'NB287', 'NB289', 'NB291', 'NB299', 'NB301',\n",
       "       'NB303', 'NB305', 'NB307', 'NB315', 'NB317', 'NB319', 'NB321',\n",
       "       'NB323', 'NB325', 'NB327', 'NB331', 'NB333', 'NB335', 'NB337',\n",
       "       'NB339', 'NB345', 'NB347', 'NB353', 'NB355', 'NB359', 'NB363',\n",
       "       'NB365', 'NB367', 'NB369', 'NB371', 'NB373', 'NB375', 'NB377',\n",
       "       'NB381', 'NB383', 'NB385', 'NB393', 'NB395', 'NB397', 'NB403',\n",
       "       'NB407', 'NB417', 'NB421', 'NB471', 'NB473', 'NB475', 'NB479',\n",
       "       'NB493', 'NB495', 'NB497'], dtype='<U5')"
      ]
     },
     "execution_count": 15,
     "metadata": {},
     "output_type": "execute_result"
    }
   ],
   "source": [
    "samp_tr"
   ]
  },
  {
   "cell_type": "markdown",
   "metadata": {},
   "source": [
    "Now load the test set data in a Pandas dataframe and create the Numpy arrays for data and labels."
   ]
  },
  {
   "cell_type": "code",
   "execution_count": 16,
   "metadata": {},
   "outputs": [],
   "source": [
    "# Your code here..."
   ]
  },
  {
   "cell_type": "code",
   "execution_count": 17,
   "metadata": {},
   "outputs": [],
   "source": [
    "# %load sol1.py\n",
    "data_ts = pd.read_csv(\"data/nb_test.txt.gz\", dtype=str, sep='\\t', index_col=0)\n",
    "x_ts = data_ts.values[:, 1:].astype(float)\n",
    "y_ts = data_ts[\"class\"].values.astype(int)\n",
    "feat_ts = data_ts.columns[1:].values.astype(str)\n",
    "samp_ts = data_ts.index.values.astype(str)\n",
    "\n"
   ]
  },
  {
   "cell_type": "code",
   "execution_count": 18,
   "metadata": {},
   "outputs": [
    {
     "data": {
      "text/plain": [
       "(136, 12304)"
      ]
     },
     "execution_count": 18,
     "metadata": {},
     "output_type": "execute_result"
    }
   ],
   "source": [
    "x_ts.shape"
   ]
  },
  {
   "cell_type": "code",
   "execution_count": 19,
   "metadata": {},
   "outputs": [
    {
     "data": {
      "text/plain": [
       "array(['NB002', 'NB006', 'NB010', 'NB012', 'NB014', 'NB016', 'NB018',\n",
       "       'NB020', 'NB022', 'NB028', 'NB030', 'NB032', 'NB034', 'NB036',\n",
       "       'NB038', 'NB042', 'NB044', 'NB046', 'NB048', 'NB050', 'NB052',\n",
       "       'NB054', 'NB056', 'NB060', 'NB062', 'NB064', 'NB080', 'NB090',\n",
       "       'NB092', 'NB094', 'NB096', 'NB098', 'NB100', 'NB102', 'NB104',\n",
       "       'NB110', 'NB114', 'NB116', 'NB118', 'NB120', 'NB122', 'NB126',\n",
       "       'NB134', 'NB136', 'NB140', 'NB148', 'NB150', 'NB152', 'NB154',\n",
       "       'NB156', 'NB158', 'NB160', 'NB162', 'NB164', 'NB166', 'NB168',\n",
       "       'NB172', 'NB174', 'NB178', 'NB180', 'NB182', 'NB188', 'NB190',\n",
       "       'NB192', 'NB194', 'NB198', 'NB200', 'NB202', 'NB204', 'NB206',\n",
       "       'NB208', 'NB210', 'NB214', 'NB216', 'NB218', 'NB220', 'NB226',\n",
       "       'NB228', 'NB242', 'NB244', 'NB250', 'NB252', 'NB256', 'NB262',\n",
       "       'NB264', 'NB268', 'NB270', 'NB274', 'NB276', 'NB278', 'NB286',\n",
       "       'NB288', 'NB290', 'NB294', 'NB296', 'NB304', 'NB308', 'NB312',\n",
       "       'NB314', 'NB316', 'NB318', 'NB320', 'NB322', 'NB324', 'NB326',\n",
       "       'NB328', 'NB342', 'NB346', 'NB348', 'NB354', 'NB356', 'NB360',\n",
       "       'NB362', 'NB364', 'NB366', 'NB368', 'NB370', 'NB376', 'NB378',\n",
       "       'NB384', 'NB386', 'NB388', 'NB392', 'NB396', 'NB404', 'NB406',\n",
       "       'NB408', 'NB414', 'NB420', 'NB458', 'NB464', 'NB470', 'NB472',\n",
       "       'NB492', 'NB494', 'NB498'], dtype='<U5')"
      ]
     },
     "execution_count": 19,
     "metadata": {},
     "output_type": "execute_result"
    }
   ],
   "source": [
    "samp_ts"
   ]
  },
  {
   "cell_type": "markdown",
   "metadata": {},
   "source": [
    "# Principal Component Analysis"
   ]
  },
  {
   "cell_type": "markdown",
   "metadata": {},
   "source": [
    "As a first step, let's perform an **unsupervised learning** task on the data set \"as is\" by decomposing it in its Principal Components.\n",
    "\n",
    "Instantiate a scikit-learn PCA object:"
   ]
  },
  {
   "cell_type": "code",
   "execution_count": 20,
   "metadata": {},
   "outputs": [],
   "source": [
    "from sklearn.decomposition import PCA\n",
    "pca = PCA(n_components=2)"
   ]
  },
  {
   "cell_type": "markdown",
   "metadata": {},
   "source": [
    "Now we'll _fit_ the PCA object on the training data, at the same time _transforming_ them in the Principal Component space:"
   ]
  },
  {
   "cell_type": "code",
   "execution_count": 21,
   "metadata": {},
   "outputs": [],
   "source": [
    "z_tr = pca.fit_transform(x_tr)"
   ]
  },
  {
   "cell_type": "markdown",
   "metadata": {},
   "source": [
    "Let's have a look at the _variance ratio_, i.e. the percentage of the variance explained by each component:"
   ]
  },
  {
   "cell_type": "code",
   "execution_count": 22,
   "metadata": {},
   "outputs": [
    {
     "name": "stdout",
     "output_type": "stream",
     "text": [
      "[0.10679567 0.06126218]\n"
     ]
    }
   ],
   "source": [
    "print(pca.explained_variance_ratio_)"
   ]
  },
  {
   "cell_type": "markdown",
   "metadata": {},
   "source": [
    "_What can you understand from these variance percentages? Could this task be \"predictable\" by some sort of model?_"
   ]
  },
  {
   "cell_type": "markdown",
   "metadata": {},
   "source": [
    "Is it always convenient to visualize the first two principal components in a scatterplot, in order to get a first assessment of the goodness of the decomposition.\n",
    "\n",
    "We will color the points in the plot according to our sample labels."
   ]
  },
  {
   "cell_type": "code",
   "execution_count": 23,
   "metadata": {
    "scrolled": true
   },
   "outputs": [
    {
     "data": {
      "image/png": "[encoded data removed]",
      "text/plain": [
       "<Figure size 432x288 with 1 Axes>"
      ]
     },
     "metadata": {},
     "output_type": "display_data"
    }
   ],
   "source": [
    "plt.figure()\n",
    "plt.scatter(z_tr[y_tr == 1, 0], z_tr[y_tr == 1, 1], color=\"r\")\n",
    "plt.scatter(z_tr[y_tr == -1, 0], z_tr[y_tr == -1, 1], color=\"b\")\n",
    "plt.title(\"PCA of Train data\")\n",
    "plt.xlabel(\"PC1\")\n",
    "plt.ylabel(\"PC2\")\n",
    "plt.show()"
   ]
  },
  {
   "cell_type": "markdown",
   "metadata": {
    "collapsed": true
   },
   "source": [
    "In a PCA plot, it is usually more informative to print also the explained variances (e.g., in the axis labels):"
   ]
  },
  {
   "cell_type": "code",
   "execution_count": 24,
   "metadata": {},
   "outputs": [
    {
     "data": {
      "image/png": "[encoded data removed]",
      "text/plain": [
       "<Figure size 432x288 with 1 Axes>"
      ]
     },
     "metadata": {},
     "output_type": "display_data"
    }
   ],
   "source": [
    "vars = pca.explained_variance_ratio_\n",
    "plt.figure()\n",
    "plt.scatter(z_tr[y_tr == 1, 0], z_tr[y_tr == 1, 1], color=\"r\")\n",
    "plt.scatter(z_tr[y_tr == -1, 0], z_tr[y_tr == -1, 1], color=\"b\")\n",
    "plt.title(\"PCA of Train data\")\n",
    "plt.xlabel(\"PC1 (%.2f%%)\" % (100*vars[0]))\n",
    "plt.ylabel(\"PC2 (%.2f%%)\" % (100*vars[1]))\n",
    "plt.show()"
   ]
  },
  {
   "cell_type": "markdown",
   "metadata": {
    "collapsed": true
   },
   "source": [
    "_Now apply the transformation to the test data and plot it._"
   ]
  },
  {
   "cell_type": "code",
   "execution_count": 25,
   "metadata": {},
   "outputs": [],
   "source": [
    "# Your code here..."
   ]
  },
  {
   "cell_type": "code",
   "execution_count": 26,
   "metadata": {},
   "outputs": [
    {
     "data": {
      "image/png": "[encoded data removed]",
      "text/plain": [
       "<Figure size 432x288 with 1 Axes>"
      ]
     },
     "metadata": {},
     "output_type": "display_data"
    }
   ],
   "source": [
    "# %load sol2.py\n",
    "z_ts = pca.transform(x_ts)\n",
    "plt.figure()\n",
    "plt.scatter(z_ts[y_ts == 1, 0], z_ts[y_ts == 1, 1], color=\"r\")\n",
    "plt.scatter(z_ts[y_ts == -1, 0], z_ts[y_ts == -1, 1], color=\"b\")\n",
    "plt.title(\"PCA transformation applied to Test data\")\n",
    "plt.xlabel(\"PC1\")\n",
    "plt.ylabel(\"PC2\")\n",
    "plt.show()\n"
   ]
  },
  {
   "cell_type": "markdown",
   "metadata": {},
   "source": [
    "# UMAP"
   ]
  },
  {
   "cell_type": "code",
   "execution_count": 27,
   "metadata": {},
   "outputs": [],
   "source": [
    "# We need the development version of the umap Python module.\n",
    "# Install it from source by cloning the GitHub repository and switching to the 0.3dev branch:\n",
    "\n",
    "# git clone https://github.com/lmcinnes/umap.git\n",
    "# cd umap\n",
    "# git checkout 0.3dev\n",
    "# python setup.py build\n",
    "# python setup.py install"
   ]
  },
  {
   "cell_type": "code",
   "execution_count": 28,
   "metadata": {},
   "outputs": [],
   "source": [
    "import umap"
   ]
  },
  {
   "cell_type": "code",
   "execution_count": 29,
   "metadata": {},
   "outputs": [],
   "source": [
    "# parameters\n",
    "n_neighbors = 10\n",
    "min_dist = 0.1\n",
    "n_components = 2\n",
    "metric = \"correlation\""
   ]
  },
  {
   "cell_type": "code",
   "execution_count": 30,
   "metadata": {},
   "outputs": [],
   "source": [
    "mapping = umap.UMAP(n_neighbors=n_neighbors, min_dist=min_dist, n_components=n_components,metric=metric)"
   ]
  },
  {
   "cell_type": "code",
   "execution_count": 31,
   "metadata": {},
   "outputs": [],
   "source": [
    "umap_x_tr = mapping.fit_transform(x_tr)\n",
    "umap_x_ts = mapping.transform(x_ts)"
   ]
  },
  {
   "cell_type": "code",
   "execution_count": 32,
   "metadata": {},
   "outputs": [
    {
     "data": {
      "image/png": "[encoded data removed]",
      "text/plain": [
       "<Figure size 432x288 with 1 Axes>"
      ]
     },
     "metadata": {},
     "output_type": "display_data"
    }
   ],
   "source": [
    "plt.figure()\n",
    "plt.scatter(umap_x_tr[y_tr == 1, 0], umap_x_tr[y_tr == 1, 1], color=\"r\")\n",
    "plt.scatter(umap_x_tr[y_tr == -1, 0], umap_x_tr[y_tr == -1, 1], color=\"b\")\n",
    "plt.title(\"UMAP projection of Train data\")\n",
    "# plt.xlabel(\"PC1 (%.2f%%)\" % (100*vars[0]))\n",
    "# plt.ylabel(\"PC2 (%.2f%%)\" % (100*vars[1]))\n",
    "plt.show()"
   ]
  },
  {
   "cell_type": "markdown",
   "metadata": {},
   "source": [
    "Let's see the projection of the test set:"
   ]
  },
  {
   "cell_type": "code",
   "execution_count": 35,
   "metadata": {},
   "outputs": [
    {
     "data": {
      "image/png": "[encoded data removed]",
      "text/plain": [
       "<Figure size 432x288 with 1 Axes>"
      ]
     },
     "metadata": {},
     "output_type": "display_data"
    }
   ],
   "source": [
    "plt.figure()\n",
    "plt.scatter(umap_x_ts[y_ts == 1, 0], umap_x_ts[y_ts == 1, 1], color=\"r\")\n",
    "plt.scatter(umap_x_ts[y_ts == -1, 0], umap_x_ts[y_ts == -1, 1], color=\"b\")\n",
    "plt.title(\"UMAP projection applied to Test data\")\n",
    "plt.show()"
   ]
  },
  {
   "cell_type": "markdown",
   "metadata": {},
   "source": [
    "# Supervised Learning"
   ]
  },
  {
   "cell_type": "markdown",
   "metadata": {},
   "source": [
    "Based on the PCA we built on our data, we decide to try some supervised learning on them.\n",
    "\n",
    "Scikit-learn provides you access to several models via a very convenient _fit_ and _predict_ interface.\n",
    "\n",
    "For example, let's fit a **Random Forest classifier** on the whole training data and then use this model to predict the labels of the test data:"
   ]
  },
  {
   "cell_type": "code",
   "execution_count": null,
   "metadata": {},
   "outputs": [],
   "source": [
    "from sklearn.ensemble import RandomForestClassifier\n",
    "clf = RandomForestClassifier(n_estimators=500) # instantiate a RandomForestClassifier with a custom parameter\n",
    "clf.fit(x_tr, y_tr) # fit the model on training data"
   ]
  },
  {
   "cell_type": "code",
   "execution_count": null,
   "metadata": {},
   "outputs": [],
   "source": [
    "y_pred = clf.predict(x_ts) # predict labels on test data"
   ]
  },
  {
   "cell_type": "markdown",
   "metadata": {},
   "source": [
    "What if we wanted to try a **Support Vector Machine** instead?\n",
    "\n",
    "In scikit-learn it is as easy as choosing the appropriate class, i.e. **SVC** (Support Vector Classification):"
   ]
  },
  {
   "cell_type": "code",
   "execution_count": null,
   "metadata": {},
   "outputs": [],
   "source": [
    "from sklearn.svm import SVC"
   ]
  },
  {
   "cell_type": "markdown",
   "metadata": {},
   "source": [
    "Then we can fit and predict by using the same code as above:"
   ]
  },
  {
   "cell_type": "code",
   "execution_count": null,
   "metadata": {},
   "outputs": [],
   "source": [
    "clf = SVC(probability=True) # instantiate a SVC object with default parameters\n",
    "clf.fit(x_tr, y_tr)"
   ]
  },
  {
   "cell_type": "code",
   "execution_count": null,
   "metadata": {},
   "outputs": [],
   "source": [
    "y_pred = clf.predict(x_ts)"
   ]
  },
  {
   "cell_type": "markdown",
   "metadata": {},
   "source": [
    "_OK, I (over)simplified a bit here. In general, a classifier has hyper-**parameters** that need to be tuned. Default choices are not good in all situations._\n",
    "\n",
    "_For example, in SVC the two main parameters are the **regularization** parameter C and the **kernel** function (linear, gaussian, polynomial, etc.)_\n",
    "\n",
    "_Usually we search the parameter space (**Grid Search**) for the combination that yields the best Cross-Validation score_."
   ]
  },
  {
   "cell_type": "code",
   "execution_count": null,
   "metadata": {},
   "outputs": [],
   "source": [
    "clf.predict_proba(x_ts)"
   ]
  },
  {
   "cell_type": "markdown",
   "metadata": {},
   "source": [
    "## Feature ranking"
   ]
  },
  {
   "cell_type": "markdown",
   "metadata": {},
   "source": [
    "Let's go back to our previously trained Random Forest classifier."
   ]
  },
  {
   "cell_type": "code",
   "execution_count": null,
   "metadata": {},
   "outputs": [],
   "source": [
    "np.random.seed(42)\n",
    "clf = RandomForestClassifier(n_estimators=500)\n",
    "clf.fit(x_tr, y_tr)"
   ]
  },
  {
   "cell_type": "markdown",
   "metadata": {},
   "source": [
    "What are the **most important features**? i.e., those having a greater power in discriminating the two sample classes?"
   ]
  },
  {
   "cell_type": "markdown",
   "metadata": {},
   "source": [
    "One option is to rank features according to some classifier properties, such as Random Forest importances or Linear SVM weights."
   ]
  },
  {
   "cell_type": "markdown",
   "metadata": {},
   "source": [
    "We can sort the features according to the Random Forest importances (Gini impurity index), and make a simple stem plot of the first 10."
   ]
  },
  {
   "cell_type": "code",
   "execution_count": null,
   "metadata": {},
   "outputs": [],
   "source": [
    "importances = clf.feature_importances_\n",
    "indices = np.argsort(importances)[::-1]\n",
    "\n",
    "print(\"Feature ranking:\")\n",
    "for f in range(10):\n",
    "    print(\"%d. feature %s (%f)\" % (f + 1, feat_tr[indices[f]], importances[indices[f]]))\n"
   ]
  },
  {
   "cell_type": "code",
   "execution_count": null,
   "metadata": {},
   "outputs": [],
   "source": [
    "plt.figure()\n",
    "plt.title(\"Feature importances\")\n",
    "plt.stem(range(10), importances[indices[:10]])\n",
    "plt.xticks(range(10), feat_tr[indices[:10]], rotation=\"vertical\")\n",
    "plt.xlim([-1, 10])\n",
    "plt.show()"
   ]
  },
  {
   "cell_type": "markdown",
   "metadata": {},
   "source": [
    "## Evaluating performance\n",
    "\n",
    "Compute and print the confusion matrix.\n",
    "\n",
    "### Recap\n",
    "\n",
    "In this example, the first row is class -1, so the confusion matrix will look like:\n",
    "\n",
    "|      |  |  Predicted  |    |\n",
    "|------|-----------|----|----|\n",
    "|      |           | -1 | 1  |\n",
    "| True | -1        | TN | FP |\n",
    "|      | 1         | FN | TP |\n"
   ]
  },
  {
   "cell_type": "code",
   "execution_count": null,
   "metadata": {},
   "outputs": [],
   "source": [
    "y_pred = clf.predict(x_ts) # use the trained RandomForestClassifier to predict labels on x_ts"
   ]
  },
  {
   "cell_type": "code",
   "execution_count": null,
   "metadata": {},
   "outputs": [],
   "source": [
    "from sklearn.metrics import confusion_matrix\n",
    "conf = confusion_matrix(y_ts, y_pred)\n",
    "conf"
   ]
  },
  {
   "cell_type": "markdown",
   "metadata": {},
   "source": [
    "The total number of class -1 test samples (AN = All Negatives) should be equal to the sum of the first row of the confusion matrix, i.e., TN + FP:"
   ]
  },
  {
   "cell_type": "code",
   "execution_count": null,
   "metadata": {},
   "outputs": [],
   "source": [
    "np.sum(y_ts==-1) # total number of \"class -1\" samples in the test set"
   ]
  },
  {
   "cell_type": "markdown",
   "metadata": {},
   "source": [
    "Similarly for class 1, i.e., AP = All Positives = TP + FN:"
   ]
  },
  {
   "cell_type": "code",
   "execution_count": null,
   "metadata": {},
   "outputs": [],
   "source": [
    "np.sum(y_ts==1) # total number of \"class +1\" samples in the test set"
   ]
  },
  {
   "cell_type": "markdown",
   "metadata": {},
   "source": [
    "Compute the Accuracy, remembering/using the formula: \n",
    "\n",
    "ACC = (TN + TP) / (TN + TP + FN + FP)"
   ]
  },
  {
   "cell_type": "markdown",
   "metadata": {},
   "source": [
    "TN and TP are on the main diagonal of our conf Numpy array. The denominator is equivalent to the overall sample size."
   ]
  },
  {
   "cell_type": "code",
   "execution_count": null,
   "metadata": {},
   "outputs": [],
   "source": [
    "(conf[0,0] + conf[1,1])/y_ts.shape[0] # y_ts.shape[0] is the sample size of the test set"
   ]
  },
  {
   "cell_type": "markdown",
   "metadata": {},
   "source": [
    "Luckily Scikit-learn provides a quite handy alternative:"
   ]
  },
  {
   "cell_type": "code",
   "execution_count": null,
   "metadata": {},
   "outputs": [],
   "source": [
    "from sklearn.metrics import accuracy_score\n",
    "accuracy_score(y_ts, y_pred)"
   ]
  },
  {
   "cell_type": "markdown",
   "metadata": {},
   "source": [
    "Now compute the MCC (again, Scikit-learn comes to our help):"
   ]
  },
  {
   "cell_type": "code",
   "execution_count": null,
   "metadata": {},
   "outputs": [],
   "source": [
    "from sklearn.metrics import matthews_corrcoef\n",
    "matthews_corrcoef(y_ts, y_pred)"
   ]
  },
  {
   "cell_type": "markdown",
   "metadata": {},
   "source": [
    "Looks good!\n",
    "\n",
    "But how do I know if this model performs similarly well on a similar/unseen data set?\n",
    "\n",
    "In other words, does this model generalize beyond its training set?\n",
    "\n",
    "This is why data partitioning techniques are used."
   ]
  },
  {
   "cell_type": "markdown",
   "metadata": {},
   "source": [
    "# Data partitioning"
   ]
  },
  {
   "cell_type": "markdown",
   "metadata": {},
   "source": [
    "Simple random split of a dataset in two groups (hold-out strategy), leaving 25% of the samples for model evaluation:"
   ]
  },
  {
   "cell_type": "code",
   "execution_count": null,
   "metadata": {},
   "outputs": [],
   "source": [
    "from sklearn.model_selection import train_test_split\n",
    "X_train, X_test, y_train, y_test = train_test_split(x_tr, y_tr, test_size=0.25, random_state=1)"
   ]
  },
  {
   "cell_type": "markdown",
   "metadata": {},
   "source": [
    "Let's retrain a Random Forest classifier on the new X_train set and use it to predict labels on the new X_test:"
   ]
  },
  {
   "cell_type": "code",
   "execution_count": null,
   "metadata": {},
   "outputs": [],
   "source": [
    "np.random.seed(42)\n",
    "clf = RandomForestClassifier(n_estimators=500)\n",
    "clf.fit(X_train, y_train)\n",
    "y_pred = clf.predict(X_test)"
   ]
  },
  {
   "cell_type": "code",
   "execution_count": null,
   "metadata": {},
   "outputs": [],
   "source": [
    "print(matthews_corrcoef(y_test, y_pred))"
   ]
  },
  {
   "cell_type": "markdown",
   "metadata": {},
   "source": [
    "Now try with different values of random_state."
   ]
  },
  {
   "cell_type": "markdown",
   "metadata": {},
   "source": [
    "## Cross-validation\n",
    "\n",
    "Partitioning the dataset once in training/test is not enough. As you may have seen, the results are fairly dependent on the random seed that was used in the splitting function.\n",
    "\n",
    "Other strategies involve splitting the data in **multiple (complementary) subsets**.\n",
    "\n",
    "For example, let's split the training dataset x_tr using a **5-fold** partitioning schema, keeping the class label proportions across folds:"
   ]
  },
  {
   "cell_type": "code",
   "execution_count": null,
   "metadata": {},
   "outputs": [],
   "source": [
    "from sklearn.model_selection import StratifiedKFold\n",
    "skf = StratifiedKFold(n_splits=5, shuffle=True, random_state=42)\n",
    "\n",
    "N = skf.get_n_splits(x_tr, y_tr)\n",
    "\n",
    "for i, (idx_tr, idx_ts) in enumerate(skf.split(x_tr, y_tr)):\n",
    "    print(\"Fold %d / %d\" % (i+1, N))\n",
    "    X_train, Y_train = x_tr[idx_tr], y_tr[idx_tr]\n",
    "    X_test, Y_test = x_tr[idx_ts], y_tr[idx_ts]\n",
    "    print(\"TRAIN size:\", X_train.shape[0])\n",
    "    print(\"-- class 1:\", np.sum(Y_train==1), \"class -1:\", np.sum(Y_train==-1))\n",
    "    print(\"TEST size:\", X_test.shape[0])\n",
    "    print(\"-- class 1:\", np.sum(Y_test==1), \"class -1:\", np.sum(Y_test==-1))\n",
    "    print()\n"
   ]
  },
  {
   "cell_type": "markdown",
   "metadata": {
    "collapsed": true
   },
   "source": [
    "## Implementing a basic Data Analysis Protocol"
   ]
  },
  {
   "cell_type": "markdown",
   "metadata": {},
   "source": [
    "As a final example, we implement a 10x 5-fold Cross-validation schema with a simple feature ranking. \n",
    "\n",
    "For each CV iteration, a Random Forest model is trained on the training portion of the data, then features are ranked according to the Random Forest importances; a series of Random Forest models are built upon an increasing number of the ranked features (i.e., 1, 5, 10, etc.) and evaluated on the test data in terms of MCC.\n",
    "\n",
    "The average MCC over the 10x5 CV iterations is computed for the different feature set sizes. We choose the feature set size that maximizes the average MCC.\n",
    "\n",
    "This basic example is meant as a starting point for building more complex pipelines, i.e., with more feature steps, (bootstrapped) confidence intervals for MCC, computation of a unified ranked feature list (as in Jurman et al., _Bioinformatics_, 2008)."
   ]
  },
  {
   "cell_type": "markdown",
   "metadata": {},
   "source": [
    "<img src=\"img/dap.png\" width=\"85%\">"
   ]
  },
  {
   "cell_type": "code",
   "execution_count": null,
   "metadata": {},
   "outputs": [],
   "source": [
    "CV_N = 10 # number of CV iterations\n",
    "CV_K = 5 # number of CV folds\n",
    "FEATURE_STEPS = [1, 5, 10, 25, 50, 100]\n",
    "# prepare output MCC array\n",
    "MCC = np.empty((CV_K*CV_N, len(FEATURE_STEPS)))\n",
    "         "
   ]
  },
  {
   "cell_type": "code",
   "execution_count": null,
   "metadata": {
    "scrolled": false
   },
   "outputs": [],
   "source": [
    "for n in range(CV_N):\n",
    "    print(f\"~~~ Iteration {n+1} ~~~\")\n",
    "    skf = StratifiedKFold(n_splits=CV_K, shuffle=True, random_state=n)\n",
    "    for i, (idx_tr, idx_ts) in enumerate(skf.split(x_tr, y_tr)):\n",
    "        print(f\"Fold {i+1}\")\n",
    "        X_train, Y_train = x_tr[idx_tr], y_tr[idx_tr]\n",
    "        X_test, Y_test = x_tr[idx_ts], y_tr[idx_ts]\n",
    "        \n",
    "        clf = RandomForestClassifier(n_estimators=500, random_state=n)\n",
    "        clf.fit(X_train, Y_train)\n",
    "        ranking = np.argsort( clf.feature_importances_ )[::-1]\n",
    "        \n",
    "        for j, s in enumerate(FEATURE_STEPS):\n",
    "            v = ranking[:s] # consider the top s ranked features\n",
    "            X_tr_fs, X_ts_fs = X_train[:, v], X_test[:, v] # extract them from internal train and test data\n",
    "            clf.fit(X_tr_fs, Y_train) # train a classifier on the reduced train dataset\n",
    "            YP = clf.predict(X_ts_fs) # predict on the reduced test dataset\n",
    "            MCC[(n*CV_K)+i, j] = matthews_corrcoef(Y_test, YP) # evaluate the model performance\n",
    "        \n",
    "    print()\n"
   ]
  },
  {
   "cell_type": "code",
   "execution_count": null,
   "metadata": {},
   "outputs": [],
   "source": [
    "# np.save(\"MCC_CV\", MCC)\n",
    "# MCC = np.load(\"MCC_CV.npy\")"
   ]
  },
  {
   "cell_type": "code",
   "execution_count": null,
   "metadata": {},
   "outputs": [],
   "source": [
    "MCC_avg = np.mean(MCC, axis=0)\n",
    "MCC_max = np.max(MCC_avg)\n",
    "n_feats = FEATURE_STEPS[np.argmax(MCC_avg)]"
   ]
  },
  {
   "cell_type": "code",
   "execution_count": null,
   "metadata": {},
   "outputs": [],
   "source": [
    "# average MCC for each feature step\n",
    "for nf, mcc in zip(FEATURE_STEPS, MCC_avg):\n",
    "    print(\"nf = %d, MCC = %.2f\" % (nf, mcc))\n",
    "\n",
    "print()\n",
    "\n",
    "print(\"Best MCC = %.2f with %d features\" % (MCC_max, n_feats))\n"
   ]
  },
  {
   "cell_type": "code",
   "execution_count": null,
   "metadata": {},
   "outputs": [],
   "source": [
    "plt.figure()\n",
    "plt.title(\"Average MCC\")\n",
    "plt.plot(FEATURE_STEPS, MCC_avg, 'o-')\n",
    "plt.xlabel(\"Number of features\")\n",
    "plt.ylabel(\"MCC\")\n",
    "plt.show()"
   ]
  },
  {
   "cell_type": "code",
   "execution_count": null,
   "metadata": {},
   "outputs": [],
   "source": []
  }
 ],
 "metadata": {
  "kernelspec": {
   "display_name": "Python 3",
   "language": "python",
   "name": "python3"
  },
  "language_info": {
   "codemirror_mode": {
    "name": "ipython",
    "version": 3
   },
   "file_extension": ".py",
   "mimetype": "text/x-python",
   "name": "python",
   "nbconvert_exporter": "python",
   "pygments_lexer": "ipython3",
   "version": "3.6.5"
  }
 },
 "nbformat": 4,
 "nbformat_minor": 1
}
